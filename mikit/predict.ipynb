{
 "metadata": {
  "language_info": {
   "codemirror_mode": {
    "name": "ipython",
    "version": 3
   },
   "file_extension": ".py",
   "mimetype": "text/x-python",
   "name": "python",
   "nbconvert_exporter": "python",
   "pygments_lexer": "ipython3",
   "version": "3.7.8-final"
  },
  "orig_nbformat": 2,
  "kernelspec": {
   "name": "python3",
   "display_name": "Python 3.7.8 64-bit ('mi': conda)",
   "metadata": {
    "interpreter": {
     "hash": "7ec0dab5bd5eb1fdbb7dd0a94bd6ff7ec83fc667d180f039fad39ec2c21c2aab"
    }
   }
  }
 },
 "nbformat": 4,
 "nbformat_minor": 2,
 "cells": [
  {
   "source": [
    "## import modules"
   ],
   "cell_type": "markdown",
   "metadata": {}
  },
  {
   "cell_type": "code",
   "execution_count": 1,
   "metadata": {},
   "outputs": [],
   "source": [
    "from compname import ChemFormula\n",
    "from feature import CreateFeature\n",
    "from mlops import WrapperMethod\n",
    "import pandas as pd\n",
    "import numpy as np\n",
    "from sklearn.ensemble import RandomForestRegressor\n",
    "from sklearn.linear_model import Lasso\n",
    "from sklearn.model_selection import train_test_split, GridSearchCV\n",
    "import matplotlib.pyplot as plt"
   ]
  },
  {
   "source": [
    "## Creating features"
   ],
   "cell_type": "markdown",
   "metadata": {}
  },
  {
   "cell_type": "code",
   "execution_count": 2,
   "metadata": {},
   "outputs": [
    {
     "output_type": "stream",
     "name": "stderr",
     "text": [
      "100%|██████████| 146/146 [00:04<00:00, 32.47it/s]\n",
      "100%|██████████| 146/146 [00:04<00:00, 32.03it/s]\n",
      "100%|██████████| 146/146 [00:04<00:00, 31.22it/s]\n",
      "100%|██████████| 146/146 [00:04<00:00, 31.42it/s]\n",
      "100%|██████████| 146/146 [00:04<00:00, 30.09it/s]\n",
      "100%|██████████| 146/146 [00:05<00:00, 29.12it/s]\n",
      "100%|██████████| 146/146 [00:05<00:00, 27.77it/s]\n",
      "100%|██████████| 146/146 [00:05<00:00, 28.77it/s]\n",
      "100%|██████████| 146/146 [00:05<00:00, 28.94it/s]\n",
      "100%|██████████| 146/146 [00:05<00:00, 27.16it/s]\n",
      "100%|██████████| 146/146 [00:05<00:00, 28.52it/s]\n",
      "100%|██████████| 146/146 [00:05<00:00, 27.50it/s]\n",
      "100%|██████████| 146/146 [00:05<00:00, 26.83it/s]\n",
      "100%|██████████| 146/146 [00:05<00:00, 27.02it/s]\n",
      "100%|██████████| 146/146 [00:05<00:00, 26.59it/s]\n",
      "100%|██████████| 146/146 [00:05<00:00, 26.46it/s]\n",
      "100%|██████████| 146/146 [00:05<00:00, 25.81it/s]\n",
      "100%|██████████| 146/146 [00:05<00:00, 26.39it/s]\n",
      "100%|██████████| 146/146 [00:05<00:00, 26.27it/s]\n",
      "100%|██████████| 146/146 [00:05<00:00, 26.01it/s]\n",
      "100%|██████████| 146/146 [00:05<00:00, 25.71it/s]\n",
      "100%|██████████| 146/146 [00:05<00:00, 25.28it/s]\n",
      "100%|██████████| 146/146 [00:05<00:00, 25.35it/s]\n",
      "100%|██████████| 146/146 [00:05<00:00, 25.32it/s]\n",
      "100%|██████████| 146/146 [00:05<00:00, 25.30it/s]\n",
      "100%|██████████| 146/146 [00:05<00:00, 25.88it/s]\n",
      "100%|██████████| 146/146 [00:05<00:00, 25.73it/s]\n",
      "100%|██████████| 146/146 [00:05<00:00, 25.01it/s]\n",
      "100%|██████████| 146/146 [00:06<00:00, 24.17it/s]\n",
      "100%|██████████| 146/146 [00:06<00:00, 23.76it/s]\n",
      "100%|██████████| 146/146 [00:06<00:00, 22.22it/s]\n",
      "100%|██████████| 146/146 [00:06<00:00, 22.55it/s]\n",
      "100%|██████████| 146/146 [00:06<00:00, 22.92it/s]\n",
      "100%|██████████| 146/146 [00:06<00:00, 23.48it/s]\n"
     ]
    }
   ],
   "source": [
    "# loading csv\n",
    "path = \"./data/learning.csv\"\n",
    "df = pd.read_csv(path)\n",
    "comp, sigma = df[\"X\"].values, df[\"Y\"].values\n",
    "\n",
    "# creating moler ratio\n",
    "path = \"./data/atom.csv\"\n",
    "cn = ChemFormula(path)\n",
    "\n",
    "# all, only F, not F\n",
    "all_molratio = cn.get_molratio(comp)\n",
    "f_molratio = cn.get_molratio(comp, obj_atoms=[\"F\"])\n",
    "cation_molratio = cn.get_molratio(comp, exc_atoms=[\"F\"])\n",
    "\n",
    "# creating molratio(dict)\n",
    "dict_molratio = {\n",
    "    \"All\" : all_molratio,\n",
    "    \"F\" : f_molratio,\n",
    "    \"Cation\" : cation_molratio\n",
    "    }\n",
    "\n",
    "# creating features of composition\n",
    "cf = CreateFeature()\n",
    "\n",
    "# get average features\n",
    "dict_feature = cf.get_ave_features(dict_molratio)\n",
    "\n",
    "# adding std features\n",
    "dict_feature.update(cf.get_std_features(dict_molratio, exc=[\"F\", \"All\"]))\n",
    "\n",
    "# adding max features\n",
    "dict_feature.update(cf.get_max_features(dict_molratio, exc=[\"F\"]))\n",
    "\n",
    "# adding min features\n",
    "dict_feature.update(cf.get_min_features(dict_molratio, exc=[\"F\"]))\n",
    "\n",
    "# creating a new feature\n",
    "dict_feature[\"Cation(Ave)/F(Ave)\"] = dict_feature[\"Cation(Ave)\"] / dict_feature[\"F(Ave)\"]\n",
    "dict_feature[\"All(Max)/F(Ave)\"] = dict_feature[\"All(Max)\"] / dict_feature[\"F(Ave)\"]\n",
    "dict_feature[\"All(Min)/F(Ave)\"] = dict_feature[\"All(Min)\"] / dict_feature[\"F(Ave)\"]\n",
    "\n",
    "# deleting a feature\n",
    "del dict_feature[\"All(Max)\"], dict_feature[\"All(Min)\"], dict_feature[\"F(Ave)\"]\n",
    "\n",
    "# creating dataframe of learnning\n",
    "df = cf.get_df_learning(dict_feature, comp)\n",
    "\n",
    "# feature engneering using Wrapper Method\n",
    "wm = WrapperMethod(X = df.values, y=sigma, feature_names=df.columns.values)\n",
    "# Lasso\n",
    "hyper_params = {\n",
    "    'alpha':[0, 0.2, 0.4, 0.6, 0.8,1.0]\n",
    "}\n",
    "model = Lasso()\n",
    "best_params_idx, cv_scores, train_scores, test_scores, best_model = wm.calc_forward(model, hyper_params)"
   ]
  },
  {
   "cell_type": "code",
   "execution_count": 3,
   "metadata": {},
   "outputs": [
    {
     "output_type": "execute_result",
     "data": {
      "text/plain": [
       "array(['Cation(Ave)@polar', 'Cation(Ave)@ea', 'All(Min)/F(Ave)@MDS_2',\n",
       "       'Cation(Max)@melt_p', 'Cation(Max)@MDS_1',\n",
       "       'Cation(Ave)/F(Ave)@MDS_3', 'All(Min)/F(Ave)@Cp',\n",
       "       'Cation(Max)@vale_e_num', 'All(Ave)@polar', 'Cation(Std)@boil_p',\n",
       "       'Cation(Ave)@MDS_1', 'Cation(Ave)@melt_p', 'Cation(Ave)@MDS_2',\n",
       "       'Cation(Std)@ion_rad', 'Cation(Std)@valence',\n",
       "       'All(Max)/F(Ave)@polar', 'All(Max)/F(Ave)@MDS_1', 'Cation(Ave)@ie',\n",
       "       'All(Min)/F(Ave)@polar', 'Cation(Std)@MDS_3',\n",
       "       'Cation(Ave)/F(Ave)@Cp', 'Cation(Ave)@rd', 'Cation(Ave)@en',\n",
       "       'Cation(Std)@at_num', 'Cation(Std)@at_wt', 'Cation(Max)@MDS_2',\n",
       "       'Cation(Max)@polar', 'All(Ave)@ion_rad', 'Cation(Ave)@rco',\n",
       "       'Cation(Min)@ea-ion_e', 'Cation(Ave)@MDS_3',\n",
       "       'Cation(Ave)/F(Ave)@ea', 'Cation(Ave)/F(Ave)@MDS_2'], dtype=object)"
      ]
     },
     "metadata": {},
     "execution_count": 3
    }
   ],
   "source": [
    "df.columns.values[best_params_idx]"
   ]
  },
  {
   "cell_type": "code",
   "execution_count": 4,
   "metadata": {},
   "outputs": [
    {
     "output_type": "error",
     "ename": "FileNotFoundError",
     "evalue": "[Errno 2] No such file or directory: '.data/lasso.sav'",
     "traceback": [
      "\u001b[0;31m---------------------------------------------------------------------------\u001b[0m",
      "\u001b[0;31mFileNotFoundError\u001b[0m                         Traceback (most recent call last)",
      "\u001b[0;32m<ipython-input-4-a5efa2303801>\u001b[0m in \u001b[0;36m<module>\u001b[0;34m()\u001b[0m\n\u001b[1;32m      1\u001b[0m \u001b[0;32mimport\u001b[0m \u001b[0mpickle\u001b[0m\u001b[0;34m\u001b[0m\u001b[0;34m\u001b[0m\u001b[0m\n\u001b[0;32m----> 2\u001b[0;31m \u001b[0mpickle\u001b[0m\u001b[0;34m.\u001b[0m\u001b[0mdump\u001b[0m\u001b[0;34m(\u001b[0m\u001b[0mbest_model\u001b[0m\u001b[0;34m,\u001b[0m \u001b[0mopen\u001b[0m\u001b[0;34m(\u001b[0m\u001b[0;34m\".data/lasso.sav\"\u001b[0m\u001b[0;34m,\u001b[0m \u001b[0;34m'wb'\u001b[0m\u001b[0;34m)\u001b[0m\u001b[0;34m)\u001b[0m\u001b[0;34m\u001b[0m\u001b[0;34m\u001b[0m\u001b[0m\n\u001b[0m",
      "\u001b[0;31mFileNotFoundError\u001b[0m: [Errno 2] No such file or directory: '.data/lasso.sav'"
     ]
    }
   ],
   "source": [
    "import pickle\n",
    "pickle.dump(best_model, open(\".data/lasso.sav\", 'wb'))"
   ]
  },
  {
   "cell_type": "code",
   "execution_count": null,
   "metadata": {},
   "outputs": [],
   "source": []
  }
 ]
}