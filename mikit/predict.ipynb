{
 "metadata": {
  "language_info": {
   "codemirror_mode": {
    "name": "ipython",
    "version": 3
   },
   "file_extension": ".py",
   "mimetype": "text/x-python",
   "name": "python",
   "nbconvert_exporter": "python",
   "pygments_lexer": "ipython3",
   "version": "3.7.8-final"
  },
  "orig_nbformat": 2,
  "kernelspec": {
   "name": "python3",
   "display_name": "Python 3.7.8 64-bit ('mi': conda)",
   "metadata": {
    "interpreter": {
     "hash": "7ec0dab5bd5eb1fdbb7dd0a94bd6ff7ec83fc667d180f039fad39ec2c21c2aab"
    }
   }
  }
 },
 "nbformat": 4,
 "nbformat_minor": 2,
 "cells": [
  {
   "source": [
    "## import modules"
   ],
   "cell_type": "markdown",
   "metadata": {}
  },
  {
   "cell_type": "code",
   "execution_count": 5,
   "metadata": {},
   "outputs": [],
   "source": [
    "from compname import ChemFormula, TriChemFormula\n",
    "from feature import CreateFeature\n",
    "from mlops import WrapperMethod\n",
    "import pandas as pd\n",
    "import numpy as np\n",
    "from sklearn.ensemble import RandomForestRegressor\n",
    "from sklearn.linear_model import Lasso\n",
    "from sklearn.model_selection import train_test_split, GridSearchCV\n",
    "import matplotlib.pyplot as plt\n",
    "import pickle"
   ]
  },
  {
   "source": [
    "## Loading data"
   ],
   "cell_type": "markdown",
   "metadata": {}
  },
  {
   "cell_type": "code",
   "execution_count": 6,
   "metadata": {},
   "outputs": [
    {
     "output_type": "error",
     "ename": "FileNotFoundError",
     "evalue": "[Errno 2] No such file or directory: './data/lasso_model'",
     "traceback": [
      "\u001b[0;31m---------------------------------------------------------------------------\u001b[0m",
      "\u001b[0;31mFileNotFoundError\u001b[0m                         Traceback (most recent call last)",
      "\u001b[0;32m<ipython-input-6-d2604738bdce>\u001b[0m in \u001b[0;36m<module>\u001b[0;34m()\u001b[0m\n\u001b[1;32m      1\u001b[0m \u001b[0mdf_learning\u001b[0m \u001b[0;34m=\u001b[0m \u001b[0mpd\u001b[0m\u001b[0;34m.\u001b[0m\u001b[0mread_pickle\u001b[0m\u001b[0;34m(\u001b[0m\u001b[0;34m\"./data/df_learning_lasso.pkl\"\u001b[0m\u001b[0;34m)\u001b[0m\u001b[0;34m\u001b[0m\u001b[0;34m\u001b[0m\u001b[0m\n\u001b[0;32m----> 2\u001b[0;31m \u001b[0mmodel\u001b[0m \u001b[0;34m=\u001b[0m \u001b[0mpickle\u001b[0m\u001b[0;34m.\u001b[0m\u001b[0mload\u001b[0m\u001b[0;34m(\u001b[0m\u001b[0mopen\u001b[0m\u001b[0;34m(\u001b[0m\u001b[0;34m\"./data/lasso_model\"\u001b[0m\u001b[0;34m,\u001b[0m \u001b[0;34m'rb'\u001b[0m\u001b[0;34m)\u001b[0m\u001b[0;34m)\u001b[0m\u001b[0;34m\u001b[0m\u001b[0;34m\u001b[0m\u001b[0m\n\u001b[0m",
      "\u001b[0;31mFileNotFoundError\u001b[0m: [Errno 2] No such file or directory: './data/lasso_model'"
     ]
    }
   ],
   "source": [
    "df_learning = pd.read_pickle(\"./data/df_learning_lasso.pkl\")\n",
    "model = pickle.load(open(\"./data/lasso_model\", 'rb'))"
   ]
  },
  {
   "source": [
    "## Creating a feature set of the composition you want to predict"
   ],
   "cell_type": "markdown",
   "metadata": {}
  },
  {
   "cell_type": "code",
   "execution_count": null,
   "metadata": {},
   "outputs": [],
   "source": [
    "# creating chemical formula \n",
    "tcf = TriChemFormula()\n",
    "comp = tcf.get_pseudo_ratio([\"Pb\", \"Sn\", \"La\"])\n",
    "\n",
    "# creating moler ratio\n",
    "path = \"./data/atom.csv\"\n",
    "cn = ChemFormula(path)\n",
    "\n",
    "# all, only F, not F\n",
    "all_molratio = cn.get_molratio(comp)\n",
    "f_molratio = cn.get_molratio(comp, obj_atoms=[\"F\"])\n",
    "cation_molratio = cn.get_molratio(comp, exc_atoms=[\"F\"])\n",
    "\n",
    "# creating molratio(dict)\n",
    "dict_molratio = {\n",
    "    \"All\" : all_molratio,\n",
    "    \"F\" : f_molratio,\n",
    "    \"Cation\" : cation_molratio\n",
    "    }\n",
    "\n",
    "# creating features of composition\n",
    "cf = CreateFeature()\n",
    "\n",
    "# get average features\n",
    "dict_feature = cf.get_ave_features(dict_molratio)\n",
    "\n",
    "# adding std features\n",
    "dict_feature.update(cf.get_std_features(dict_molratio, exc=[\"F\", \"All\"]))\n",
    "\n",
    "# adding max features\n",
    "dict_feature.update(cf.get_max_features(dict_molratio, exc=[\"F\"]))\n",
    "\n",
    "# adding min features\n",
    "dict_feature.update(cf.get_min_features(dict_molratio, exc=[\"F\"]))\n",
    "\n",
    "# creating a new feature\n",
    "dict_feature[\"Cation(Ave)/F(Ave)\"] = dict_feature[\"Cation(Ave)\"] / dict_feature[\"F(Ave)\"]\n",
    "dict_feature[\"All(Max)/F(Ave)\"] = dict_feature[\"All(Max)\"] / dict_feature[\"F(Ave)\"]\n",
    "dict_feature[\"All(Min)/F(Ave)\"] = dict_feature[\"All(Min)\"] / dict_feature[\"F(Ave)\"]\n",
    "\n",
    "# creating dataframe of learnning\n",
    "df = cf.get_df_learning(dict_feature, comp)"
   ]
  },
  {
   "cell_type": "code",
   "execution_count": null,
   "metadata": {},
   "outputs": [],
   "source": [
    "print(df)"
   ]
  }
 ]
}