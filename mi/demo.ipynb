{
 "metadata": {
  "language_info": {
   "codemirror_mode": {
    "name": "ipython",
    "version": 3
   },
   "file_extension": ".py",
   "mimetype": "text/x-python",
   "name": "python",
   "nbconvert_exporter": "python",
   "pygments_lexer": "ipython3",
   "version": "3.7.8-final"
  },
  "orig_nbformat": 2,
  "kernelspec": {
   "name": "python3",
   "display_name": "Python 3.7.8 64-bit ('mi': conda)",
   "metadata": {
    "interpreter": {
     "hash": "7ec0dab5bd5eb1fdbb7dd0a94bd6ff7ec83fc667d180f039fad39ec2c21c2aab"
    }
   }
  }
 },
 "nbformat": 4,
 "nbformat_minor": 2,
 "cells": [
  {
   "source": [
    "from compname import ChemFormula\n",
    "from feature import CreateFeature\n",
    "import pandas as pd\n",
    "import numpy as np"
   ],
   "cell_type": "code",
   "metadata": {},
   "execution_count": 1,
   "outputs": []
  },
  {
   "cell_type": "code",
   "execution_count": 2,
   "metadata": {},
   "outputs": [],
   "source": [
    "# loading csv\n",
    "path = \"./data/learning.csv\"\n",
    "df = pd.read_csv(path)\n",
    "comp = df[\"X\"].values\n",
    "\n",
    "# creating moler ratio\n",
    "path = \"./data/atom.csv\"\n",
    "cn = ChemFormula(path)\n",
    "\n",
    "# all, only F, not F\n",
    "all_molratio = cn.get_molratio(comp)\n",
    "f_molratio = cn.get_molratio(comp, obj_atoms=[\"F\"])\n",
    "cation_molratio = cn.get_molratio(comp, exc_atoms=[\"F\"])\n",
    "\n",
    "# creating molratio(dict)\n",
    "dict_molratio = {\n",
    "    \"All\" : all_molratio,\n",
    "    \"F\" : f_molratio,\n",
    "    \"Cation\" : cation_molratio\n",
    "    }"
   ]
  },
  {
   "cell_type": "code",
   "execution_count": 3,
   "metadata": {
    "tags": []
   },
   "outputs": [
    {
     "output_type": "stream",
     "name": "stdout",
     "text": [
      "dict_keys(['All(Ave)', 'Cation(Ave)', 'Cation(Std)', 'Cation(Max)', 'Cation(Min)', 'Cation(Ave)/F(Ave)', 'All(Max)/F(Ave)', 'All(Min)/F(Ave)'])\n"
     ]
    }
   ],
   "source": [
    "# creating features of composition\n",
    "cf = CreateFeature()\n",
    "\n",
    "# get average features\n",
    "dict_feature = cf.get_ave_features(dict_molratio)\n",
    "\n",
    "# adding std features\n",
    "dict_feature.update(cf.get_std_features(dict_molratio, exc=[\"F\", \"All\"]))\n",
    "\n",
    "# adding max features\n",
    "dict_feature.update(cf.get_max_features(dict_molratio, exc=[\"F\"]))\n",
    "\n",
    "# adding min features\n",
    "dict_feature.update(cf.get_min_features(dict_molratio, exc=[\"F\"]))\n",
    "\n",
    "# creating a new feature\n",
    "dict_feature[\"Cation(Ave)/F(Ave)\"] = dict_feature[\"Cation(Ave)\"] / dict_feature[\"F(Ave)\"]\n",
    "dict_feature[\"All(Max)/F(Ave)\"] = dict_feature[\"All(Max)\"] / dict_feature[\"F(Ave)\"]\n",
    "dict_feature[\"All(Min)/F(Ave)\"] = dict_feature[\"All(Min)\"] / dict_feature[\"F(Ave)\"]\n",
    "\n",
    "# deleting a feature\n",
    "del dict_feature[\"All(Max)\"], dict_feature[\"All(Min)\"], dict_feature[\"F(Ave)\"]\n",
    "\n",
    "# checking a features\n",
    "print(dict_feature.keys())\n"
   ]
  },
  {
   "cell_type": "code",
   "execution_count": 4,
   "metadata": {},
   "outputs": [],
   "source": [
    "# creating dataframe of learnning\n",
    "df = cf.get_df_learning(dict_feature, comp)\n",
    "df.to_csv(\"a.csv\")"
   ]
  },
  {
   "cell_type": "code",
   "execution_count": null,
   "metadata": {},
   "outputs": [],
   "source": []
  }
 ]
}