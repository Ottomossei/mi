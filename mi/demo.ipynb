{
 "metadata": {
  "language_info": {
   "codemirror_mode": {
    "name": "ipython",
    "version": 3
   },
   "file_extension": ".py",
   "mimetype": "text/x-python",
   "name": "python",
   "nbconvert_exporter": "python",
   "pygments_lexer": "ipython3",
   "version": "3.7.8-final"
  },
  "orig_nbformat": 2,
  "kernelspec": {
   "name": "python3",
   "display_name": "Python 3.7.8 64-bit ('mi': conda)",
   "metadata": {
    "interpreter": {
     "hash": "7ec0dab5bd5eb1fdbb7dd0a94bd6ff7ec83fc667d180f039fad39ec2c21c2aab"
    }
   }
  }
 },
 "nbformat": 4,
 "nbformat_minor": 2,
 "cells": [
  {
   "source": [
    "from compname import ChemFormula\n",
    "from feature import CreateFeature\n",
    "import pandas as pd\n",
    "import numpy as np"
   ],
   "cell_type": "code",
   "metadata": {},
   "execution_count": 1,
   "outputs": []
  },
  {
   "cell_type": "code",
   "execution_count": 2,
   "metadata": {},
   "outputs": [],
   "source": [
    "# loading csv\n",
    "path = \"./data/learning.csv\"\n",
    "df = pd.read_csv(path)\n",
    "comp = df[\"X\"].values[:4]\n",
    "\n",
    "# creating moler ratio\n",
    "path = \"./data/atom.csv\"\n",
    "cn = ChemFormula(path)\n",
    "\n",
    "# all, only F, not F\n",
    "all_molratio = cn.get_molratio(comp)\n",
    "f_molratio = cn.get_molratio(comp, obj_atoms=[\"F\"])\n",
    "cation_molratio = cn.get_molratio(comp, exc_atoms=[\"F\"])\n",
    "\n",
    "# creating molratio(dict)\n",
    "dict_molratio = {\n",
    "    \"All\" : all_molratio,\n",
    "    \"F\" : f_molratio,\n",
    "    \"Cation\" : cation_molratio\n",
    "    }"
   ]
  },
  {
   "cell_type": "code",
   "execution_count": 3,
   "metadata": {
    "tags": []
   },
   "outputs": [
    {
     "output_type": "stream",
     "name": "stdout",
     "text": [
      "dict_keys(['All(Ave)', 'F(Ave)', 'Cation(Ave)', 'All(Std)', 'Cation(Std)', 'Cation(Max)', 'Cation(Min)', 'Cation(Ave)/F(Ave)', 'All(Max)/F(Ave)', 'All(Min)/F(Ave)'])\n"
     ]
    }
   ],
   "source": [
    "# creating features of composition\n",
    "cf = CreateFeature()\n",
    "# get average features\n",
    "dict_feature = cf.get_ave_features(dict_molratio)\n",
    "\n",
    "# adding std features\n",
    "dict_feature.update(cf.get_std_features(dict_molratio, exc=[\"F\"]))\n",
    "\n",
    "# adding max features\n",
    "dict_feature.update(cf.get_max_features(dict_molratio, exc=[\"F\"]))\n",
    "\n",
    "# adding min features\n",
    "dict_feature.update(cf.get_min_features(dict_molratio, exc=[\"F\"]))\n",
    "\n",
    "# creating a new feature\n",
    "dict_feature[\"Cation(Ave)/F(Ave)\"] = dict_feature[\"Cation(Ave)\"] / dict_feature[\"F(Ave)\"]\n",
    "dict_feature[\"All(Max)/F(Ave)\"] = dict_feature[\"All(Max)\"] / dict_feature[\"F(Ave)\"]\n",
    "dict_feature[\"All(Min)/F(Ave)\"] = dict_feature[\"All(Min)\"] / dict_feature[\"F(Ave)\"]\n",
    "\n",
    "# deleting a feature\n",
    "del dict_feature[\"All(Max)\"], dict_feature[\"All(Min)\"]\n",
    "\n",
    "# checking a features\n",
    "print(dict_feature.keys())\n"
   ]
  },
  {
   "cell_type": "code",
   "execution_count": 4,
   "metadata": {},
   "outputs": [
    {
     "output_type": "stream",
     "name": "stdout",
     "text": [
      "[[0.05291517 0.21606573 0.262905   0.10191404 0.05271438 0.16975005\n  0.2749518  0.08059211 0.08139776 0.01899475 0.28100692 0.27887403\n  0.0116008  0.03601271 0.0314233  0.03376768 0.03357569 0.03534486\n  0.0359039  0.05895787 0.03068448 0.27687458]\n [0.04320621 0.20981104 0.26147901 0.06410527 0.04612785 0.17155672\n  0.28656816 0.07856742 0.03848868 0.01964186 0.2976377  0.29402163\n  0.01228684 0.03624716 0.03166657 0.03408224 0.03381764 0.03560464\n  0.03601272 0.06317047 0.03136144 0.29040837]\n [0.05485856 0.21361183 0.25915937 0.10165554 0.05453559 0.16735123\n  0.27195094 0.08221477 0.08216845 0.02055369 0.27792589 0.27591161\n  0.01263895 0.03691551 0.03206284 0.03536761 0.03432582 0.03631191\n  0.03670286 0.05806542 0.03227463 0.27393191]\n [0.05536105 0.21430547 0.25980883 0.10184779 0.05500638 0.1679216\n  0.27236185 0.08277592 0.08238543 0.02069398 0.27843955 0.27637314\n  0.01280649 0.03764262 0.03277683 0.03560901 0.03505298 0.03697638\n  0.03742992 0.05832267 0.03265294 0.27439378]]\n"
     ]
    }
   ],
   "source": [
    "print(dict_feature[\"All(Std)\"])"
   ]
  }
 ]
}