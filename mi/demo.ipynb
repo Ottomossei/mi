{
 "metadata": {
  "language_info": {
   "codemirror_mode": {
    "name": "ipython",
    "version": 3
   },
   "file_extension": ".py",
   "mimetype": "text/x-python",
   "name": "python",
   "nbconvert_exporter": "python",
   "pygments_lexer": "ipython3",
   "version": "3.7.8-final"
  },
  "orig_nbformat": 2,
  "kernelspec": {
   "name": "python3",
   "display_name": "Python 3.7.8 64-bit ('mi': conda)",
   "metadata": {
    "interpreter": {
     "hash": "7ec0dab5bd5eb1fdbb7dd0a94bd6ff7ec83fc667d180f039fad39ec2c21c2aab"
    }
   }
  }
 },
 "nbformat": 4,
 "nbformat_minor": 2,
 "cells": [
  {
   "cell_type": "code",
   "execution_count": 12,
   "metadata": {},
   "outputs": [],
   "source": [
    "from compname import ChemFormula\n",
    "import pandas as pd"
   ]
  },
  {
   "cell_type": "code",
   "execution_count": 13,
   "metadata": {},
   "outputs": [
    {
     "output_type": "stream",
     "name": "stdout",
     "text": [
      "[[0.         0.         0.67105263 ... 0.16118421 0.         0.        ]\n [0.         0.         0.66666667 ... 0.16666667 0.         0.        ]\n [0.         0.         0.66442953 ... 0.16442953 0.         0.        ]\n ...\n [0.         0.         0.66666667 ... 0.         0.         0.        ]\n [0.         0.         0.6780425  ... 0.         0.         0.        ]\n [0.         0.         0.66666667 ... 0.         0.         0.        ]]\n"
     ]
    }
   ],
   "source": [
    "# load csv\n",
    "path = \"./data/learning.csv\"\n",
    "df = pd.read_csv(path)\n",
    "comp = df[\"X\"].values\n",
    "\n",
    "# output matrix of moler ratio\n",
    "path = \"./data/atom.csv\"\n",
    "cn = ChemFormula(path)\n",
    "comp_ratio = cn.get_molratio(comp)\n",
    "print(comp_ratio)"
   ]
  },
  {
   "cell_type": "code",
   "execution_count": null,
   "metadata": {},
   "outputs": [],
   "source": []
  }
 ]
}